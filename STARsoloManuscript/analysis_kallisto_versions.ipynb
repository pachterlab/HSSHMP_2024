{
 "cells": [
  {
   "cell_type": "code",
   "execution_count": 1,
   "id": "45194f73",
   "metadata": {},
   "outputs": [],
   "source": [
    "import re\n",
    "import matplotlib.pyplot as plt\n",
    "import session_info\n",
    "plt.rcParams['figure.dpi'] = 300"
   ]
  },
  {
   "cell_type": "code",
   "execution_count": 2,
   "id": "b4cf950a",
   "metadata": {},
   "outputs": [
    {
     "name": "stdout",
     "output_type": "stream",
     "text": [
      "-----\n",
      "matplotlib          3.7.4\n",
      "session_info        1.0.0\n",
      "-----\n",
      "IPython             8.4.0\n",
      "jupyter_client      6.1.12\n",
      "jupyter_core        4.7.1\n",
      "notebook            6.4.4\n",
      "-----\n",
      "Python 3.8.5 (default, Sep  4 2020, 02:22:02) [Clang 10.0.0 ]\n",
      "macOS-10.16-x86_64-i386-64bit\n",
      "-----\n",
      "Session information updated at 2024-01-01 16:49\n"
     ]
    }
   ],
   "source": [
    "session_info.show(html=False)"
   ]
  },
  {
   "cell_type": "code",
   "execution_count": 3,
   "id": "1eccdf46",
   "metadata": {},
   "outputs": [
    {
     "data": {
      "image/png": "[encoded data removed]",
      "text/plain": [
       "<Figure size 864x432 with 2 Axes>"
      ]
     },
     "metadata": {
      "needs_background": "light"
     },
     "output_type": "display_data"
    }
   ],
   "source": [
    "def parse_elapsed_time(text):\n",
    "    \"\"\"Extracts and converts elapsed time to minutes from a given text.\"\"\"\n",
    "    match = re.search(r\"Elapsed \\(wall clock\\) time \\(h:mm:ss or m:ss\\): (\\d+):(\\d+\\.\\d+)\", text)\n",
    "    if match:\n",
    "        minutes, seconds = map(float, match.groups())\n",
    "        total_minutes = minutes + seconds / 60\n",
    "        return round(total_minutes, 2)  # Round to 2 decimal places for precision\n",
    "    else:\n",
    "        return None  # Return None in case of no match\n",
    "\n",
    "def parse_max_resident_set_size(text):\n",
    "    \"\"\"Extracts and converts maximum resident set size to gigabytes from a given text.\"\"\"\n",
    "    match = re.search(r\"Maximum resident set size \\(kbytes\\): (\\d+)\", text)\n",
    "    if match:\n",
    "        kbytes = int(match.group(1))\n",
    "        gigabytes = kbytes / (1000**2)\n",
    "        return gigabytes\n",
    "    else:\n",
    "        return None  # Return None in case of no match\n",
    "\n",
    "# File names for the y-axis labels\n",
    "file_names = [\"results_kallisto_version_performances/kallisto_0.48.0.txt\",\n",
    "              \"results_kallisto_version_performances/kallisto_0.50.1.txt\",\n",
    "              \"results_kallisto_version_performances/kallisto_0.50.1_offlist.txt\",\n",
    "              \"results_kallisto_version_performances/kallisto_0.50.0_offlist.txt\"]\n",
    "sample_names = [\"kallisto (v0.48.0; no D-list)\",\n",
    "               \"No D-list\",\n",
    "               \"DFKs in external hashmap\",\n",
    "               \"DFKs in de Bruijn graph\"]\n",
    "\n",
    "elapsed_times = []\n",
    "max_resident_sizes = []\n",
    "\n",
    "# Read each file and parse the data\n",
    "for file_name in file_names:\n",
    "    with open(file_name, 'r') as file:\n",
    "        content = file.read()\n",
    "        elapsed_time = parse_elapsed_time(content)\n",
    "        max_res_size = parse_max_resident_set_size(content)\n",
    "        elapsed_times.append(elapsed_time if elapsed_time is not None else 0)\n",
    "        max_resident_sizes.append(round(max_res_size,3) if max_res_size is not None else 0)\n",
    "\n",
    "# Plotting the results with horizontal bars\n",
    "fig, axes = plt.subplots(1, 2, figsize=(12, 6))\n",
    "\n",
    "# Elapsed Time Plot - Horizontal\n",
    "axes[0].barh(sample_names, elapsed_times, color='blue')\n",
    "axes[0].set_title('Elapsed Time')\n",
    "axes[0].set_xlabel('Time (minutes)')\n",
    "for index, value in enumerate(elapsed_times):\n",
    "    axes[0].text(value, index, f' {value}', va='center', color='blue')\n",
    "axes[0].set_xlim(0,35)\n",
    "\n",
    "# Maximum Resident Set Size Plot - Horizontal\n",
    "axes[1].barh(sample_names, max_resident_sizes, color='green')\n",
    "axes[1].set_title('Peak Memory')\n",
    "axes[1].set_xlabel('Maximum Resident Set Size (GB)')\n",
    "for index, value in enumerate(max_resident_sizes):\n",
    "    axes[1].text(value, index, f' {value}', va='center', color='green')\n",
    "axes[1].set_xlim(0,70)\n",
    "\n",
    "plt.tight_layout()\n",
    "plt.show()\n",
    "\n"
   ]
  }
 ],
 "metadata": {
  "kernelspec": {
   "display_name": "Python 3 (ipykernel)",
   "language": "python",
   "name": "python3"
  },
  "language_info": {
   "codemirror_mode": {
    "name": "ipython",
    "version": 3
   },
   "file_extension": ".py",
   "mimetype": "text/x-python",
   "name": "python",
   "nbconvert_exporter": "python",
   "pygments_lexer": "ipython3",
   "version": "3.8.5"
  }
 },
 "nbformat": 4,
 "nbformat_minor": 5
}
